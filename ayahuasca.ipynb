{
 "cells": [
  {
   "cell_type": "code",
   "execution_count": 14,
   "metadata": {},
   "outputs": [],
   "source": [
    "#import libraries\n",
    "import pandas as pd\n",
    "import numpy as np\n",
    "import glob\n",
    "import os"
   ]
  },
  {
   "cell_type": "code",
   "execution_count": 21,
   "metadata": {},
   "outputs": [
    {
     "name": "stdout",
     "output_type": "stream",
     "text": [
      "        Fp1        Fz        F3        F7       FT9       FC5       FC1  \\\n",
      "0  1.000000  0.739844  0.612156  0.689476 -0.205708  0.135121  0.520859   \n",
      "1  0.739844  1.000000  0.570196  0.956244 -0.012145  0.257144  0.787081   \n",
      "2  0.612156  0.570196  1.000000  0.406135 -0.056610  0.243151  0.278875   \n",
      "3  0.689476  0.956244  0.406135  1.000000  0.043813  0.230066  0.869191   \n",
      "4 -0.205708 -0.012145 -0.056610  0.043813  1.000000 -0.062513  0.166707   \n",
      "\n",
      "         C3        T7       TP9  ...       FT8        F6        F2       AF4  \\\n",
      "0 -0.145334  0.207892 -0.016113  ...  0.383332  0.432619  0.269916  0.500665   \n",
      "1  0.019417  0.366373 -0.276294  ...  0.090765  0.486036  0.267748  0.206686   \n",
      "2  0.345840 -0.081579  0.271429  ...  0.238834  0.146138 -0.100036  0.146959   \n",
      "3  0.010626  0.463175 -0.366635  ...  0.081692  0.534998  0.430763  0.182244   \n",
      "4  0.242903 -0.100913  0.005839  ... -0.045209  0.066241  0.058335 -0.212188   \n",
      "\n",
      "        AF8        O2        P4        C6        C2  source_file  \n",
      "0  0.020177 -0.240886 -0.241604 -0.235351 -0.103644        0.csv  \n",
      "1  0.016482 -0.161221 -0.380438 -0.029943 -0.133661        0.csv  \n",
      "2  0.210246  0.205608  0.294739 -0.091248  0.256009        0.csv  \n",
      "3 -0.006640 -0.194740 -0.487483  0.080517 -0.278091        0.csv  \n",
      "4  0.283813  0.091385  0.010721  0.395342  0.005767        0.csv  \n",
      "\n",
      "[5 rows x 64 columns]\n"
     ]
    }
   ],
   "source": [
    "def load_eeg_csv(folder_path):\n",
    "    csv_files = glob.glob(os.path.join(folder_path, \"*.csv\"))\n",
    "    if not csv_files:\n",
    "        raise ValueError(f\"No CSV files found in {folder_path}\")\n",
    "\n",
    "    df_list = [pd.read_csv(file).assign(source_file=os.path.basename(file)) for file in csv_files]\n",
    "    df = pd.concat(df_list, ignore_index=True)\n",
    "\n",
    "    return df\n",
    "\n",
    "aya =  r\"C:\\Users\\Leandre Sabourin\\git\\machine-learning\\Paper ayahuasca\\Data\\Ayahuasca\" # User-defined path\n",
    "noaya = r\"C:\\Users\\Leandre Sabourin\\git\\machine-learning\\Paper ayahuasca\\Data\\No ayahuasca\"\n",
    "eeg_data_aya = load_eeg_csv(aya)\n",
    "eeg_data_noaya = load_eeg_csv(noaya)\n",
    "\n",
    "print(eeg_data_aya.head())"
   ]
  },
  {
   "cell_type": "markdown",
   "metadata": {},
   "source": [
    "Prepare the data and the labels"
   ]
  },
  {
   "cell_type": "code",
   "execution_count": 55,
   "metadata": {},
   "outputs": [
    {
     "name": "stdout",
     "output_type": "stream",
     "text": [
      "Shape of X: (9072, 63)\n",
      "Shape of Y: (9072,)\n"
     ]
    }
   ],
   "source": [
    "from sklearn.model_selection import train_test_split\n",
    "from sklearn.preprocessing import StandardScaler\n",
    "\n",
    "eeg_data_aya[\"label\"] = \"yes\"\n",
    "eeg_data_noaya[\"label\"] = \"no\"\n",
    "df = pd.concat([eeg_data_aya, eeg_data_noaya], ignore_index=True)\n",
    "X = df.drop(columns=[\"label\"])  # All EEG channels as features\n",
    "X = X.select_dtypes(include=['float64', 'float32'])\n",
    "\n",
    "X = X.astype(float)\n",
    "Y = df[\"label\"]  # Labels\n",
    "\n",
    "\n",
    "print(f\"Shape of X: {X.shape}\")\n",
    "print(f\"Shape of Y: {Y.shape}\")\n",
    "\n",
    "\n"
   ]
  },
  {
   "cell_type": "markdown",
   "metadata": {},
   "source": [
    "Train de dataset "
   ]
  },
  {
   "cell_type": "code",
   "execution_count": 56,
   "metadata": {},
   "outputs": [],
   "source": [
    "X_train, X_test, y_train, y_test = train_test_split(X, Y, test_size=0.25)\n",
    "\n",
    "\n",
    "scaler = StandardScaler()\n",
    "X_train = scaler.fit_transform(X_train)\n",
    "X_test = scaler.transform(X_test)\n"
   ]
  }
 ],
 "metadata": {
  "kernelspec": {
   "display_name": "ml",
   "language": "python",
   "name": "python3"
  },
  "language_info": {
   "codemirror_mode": {
    "name": "ipython",
    "version": 3
   },
   "file_extension": ".py",
   "mimetype": "text/x-python",
   "name": "python",
   "nbconvert_exporter": "python",
   "pygments_lexer": "ipython3",
   "version": "3.8.18"
  }
 },
 "nbformat": 4,
 "nbformat_minor": 2
}
